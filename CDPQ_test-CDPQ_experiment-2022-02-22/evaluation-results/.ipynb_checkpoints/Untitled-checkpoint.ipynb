{
 "cells": [
  {
   "cell_type": "code",
   "execution_count": 3,
   "id": "908dd7d9",
   "metadata": {},
   "outputs": [],
   "source": [
    "import pandas as pd\n",
    "job=pd.read_pickle('/home/ulaval.ca/amngb2/projects/ul-val-prj-def-erpaq33/sophie/cdpq/deeplabcut/CDPQ_test-CDPQ_experiment-2022-02-22/evaluation-results/iteration-0/CDPQ_testFeb22-trainset95shuffle2/DLC_dlcrnetms5_CDPQ_testFeb22shuffle2_5-snapshot-5_map.pickle')"
   ]
  },
  {
   "cell_type": "code",
   "execution_count": 4,
   "id": "d582f6d2",
   "metadata": {},
   "outputs": [
    {
     "data": {
      "text/plain": [
       "(ngraph                4         5         6         7         8         9   \\\n",
       " miss      mean  0.000000  0.000000  0.000000  0.000000  0.000000  0.000000   \n",
       "           std   0.000000  0.000000  0.000000  0.000000  0.000000  0.000000   \n",
       " purity    mean  0.412191  0.428579  0.416294  0.420647  0.405860  0.423325   \n",
       "           std   0.036959  0.033446  0.065672  0.041489  0.047726  0.050073   \n",
       " mAP_train mean  0.000000  0.000000  0.000000  0.000000  0.000000  0.000000   \n",
       " mAR_train mean  0.000000  0.000000  0.000000  0.000000  0.000000  0.000000   \n",
       " mAP_test  mean  0.000000  0.000000  0.000000  0.000000  0.000000  0.000000   \n",
       " mAR_test  mean  0.000000  0.000000  0.000000  0.000000  0.000000  0.000000   \n",
       " \n",
       " ngraph                10  \n",
       " miss      mean  0.000000  \n",
       "           std   0.000000  \n",
       " purity    mean  0.405919  \n",
       "           std   0.052919  \n",
       " mAP_train mean  0.000000  \n",
       " mAR_train mean  0.000000  \n",
       " mAP_test  mean  0.000000  \n",
       " mAR_test  mean  0.000000  ,\n",
       " {0: 0.5256601976996692,\n",
       "  1: 0.4347921122327987,\n",
       "  2: 0.43923666582009546,\n",
       "  3: 0.5041368811921052,\n",
       "  4: 0.30826774180716204,\n",
       "  5: 0.5776019491393312,\n",
       "  6: 0.4239350038772499,\n",
       "  7: 0.5757429016865878,\n",
       "  8: 0.6453519146126029,\n",
       "  9: 0.4861045091694908})"
      ]
     },
     "execution_count": 4,
     "metadata": {},
     "output_type": "execute_result"
    }
   ],
   "source": [
    "job"
   ]
  },
  {
   "cell_type": "code",
   "execution_count": 5,
   "id": "c9ea3a6b",
   "metadata": {},
   "outputs": [
    {
     "name": "stdout",
     "output_type": "stream",
     "text": [
      "DLC loaded in light mode; you cannot use any GUI (labeling, relabeling and standalone GUI)\n"
     ]
    }
   ],
   "source": [
    "\n",
    "import deeplabcut"
   ]
  },
  {
   "cell_type": "code",
   "execution_count": null,
   "id": "523f8b8e",
   "metadata": {},
   "outputs": [
    {
     "name": "stdout",
     "output_type": "stream",
     "text": [
      "Using snapshot-200000 for model /home/ulaval.ca/amngb2/projects/ul-val-prj-def-erpaq33/sophie/cdpq/deeplabcut/CDPQ_test-CDPQ_experiment-2022-02-22/dlc-models/iteration-0/CDPQ_testFeb22-trainset95shuffle1\n"
     ]
    },
    {
     "name": "stderr",
     "output_type": "stream",
     "text": [
      "/project/166600234/sophie/our_virtual_envs/dlc/venv/lib/python3.8/site-packages/tensorflow/python/keras/engine/base_layer_v1.py:1694: UserWarning: `layer.apply` is deprecated and will be removed in a future version. Please use `layer.__call__` method instead.\n",
      "  warnings.warn('`layer.apply` is deprecated and '\n",
      "/project/166600234/sophie/our_virtual_envs/dlc/venv/lib/python3.8/site-packages/tf_slim/layers/layers.py:684: UserWarning: `layer.apply` is deprecated and will be removed in a future version. Please use `layer.__call__` method instead.\n",
      "  outputs = layer.apply(inputs, training=is_training)\n"
     ]
    },
    {
     "name": "stdout",
     "output_type": "stream",
     "text": [
      "Activating extracting of PAFs\n"
     ]
    },
    {
     "name": "stderr",
     "output_type": "stream",
     "text": [
      "2022-06-23 13:41:30.112414: E tensorflow/stream_executor/cuda/cuda_driver.cc:271] failed call to cuInit: CUDA_ERROR_NO_DEVICE: no CUDA-capable device is detected\n",
      "2022-06-23 13:41:30.112723: I tensorflow/stream_executor/cuda/cuda_diagnostics.cc:156] kernel driver does not appear to be running on this host (ul-val-pr-ssh01.l.ul.ca): /proc/driver/nvidia/version does not exist\n",
      "2022-06-23 13:41:30.114078: I tensorflow/core/platform/cpu_feature_guard.cc:151] This TensorFlow binary is optimized with oneAPI Deep Neural Network Library (oneDNN) to use the following CPU instructions in performance-critical operations:  AVX2 AVX512F FMA\n",
      "To enable them in other operations, rebuild TensorFlow with the appropriate compiler flags.\n"
     ]
    },
    {
     "name": "stdout",
     "output_type": "stream",
     "text": [
      "Starting to analyze %  /home/ulaval.ca/amngb2/projects/ul-val-prj-def-erpaq33/sophie/cdpq/deeplabcut/CDPQ_test-CDPQ_experiment-2022-02-22/videos/complete_video/GR77_20200512_111314.mp4\n",
      "Loading  /home/ulaval.ca/amngb2/projects/ul-val-prj-def-erpaq33/sophie/cdpq/deeplabcut/CDPQ_test-CDPQ_experiment-2022-02-22/videos/complete_video/GR77_20200512_111314.mp4\n",
      "Duration of video [s]:  599.47 , recorded with  24.66 fps!\n",
      "Overall # of frames:  14783  found with (before cropping) frame dimensions:  1280 720\n",
      "Starting to extract posture from the video(s) with batchsize: 1\n"
     ]
    },
    {
     "name": "stderr",
     "output_type": "stream",
     "text": [
      " 15%|████████▌                                               | 2245/14783 [25:47<2:21:56,  1.47it/s]"
     ]
    }
   ],
   "source": [
    "config_path= path_config_file = '/home/ulaval.ca/amngb2/projects/ul-val-prj-def-erpaq33/sophie/cdpq/deeplabcut/CDPQ_test-CDPQ_experiment-2022-02-22/config_full.yaml'\n",
    "\n",
    "scorername = deeplabcut.analyze_videos(config_path,['/home/ulaval.ca/amngb2/projects/ul-val-prj-def-erpaq33/sophie/cdpq/deeplabcut/CDPQ_test-CDPQ_experiment-2022-02-22/videos/complete_video/GR77_20200512_111314.mp4'], videotype='.mp4')\n",
    "print(scorername)"
   ]
  },
  {
   "cell_type": "code",
   "execution_count": null,
   "id": "146ffb0e",
   "metadata": {},
   "outputs": [],
   "source": [
    "\n"
   ]
  }
 ],
 "metadata": {
  "kernelspec": {
   "display_name": "Python 3 (ipykernel)",
   "language": "python",
   "name": "python3"
  },
  "language_info": {
   "codemirror_mode": {
    "name": "ipython",
    "version": 3
   },
   "file_extension": ".py",
   "mimetype": "text/x-python",
   "name": "python",
   "nbconvert_exporter": "python",
   "pygments_lexer": "ipython3",
   "version": "3.8.10"
  }
 },
 "nbformat": 4,
 "nbformat_minor": 5
}
